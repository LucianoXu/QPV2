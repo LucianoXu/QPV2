{
 "cells": [
  {
   "cell_type": "markdown",
   "metadata": {},
   "source": [
    "# QPV2\n",
    "`QPV2` is a Python-based interactive tool for quantum program development.\n",
    "It checks whether operator terms and quantum programs are well-formed, calculates the classical simulation of program execution, checks whether the specified prescription is satisfied, and assists in the step-wise refinement of programs in the sense of partial correctness. \n",
    "\n",
    "Efforts are made to balance and ensure that `QPV2` is user-friendly, expressive and automated.\n",
    "`QPV2` works in an environment of definitions, and a simple imperative language is designed to manipulate the environment and prover in a convenient way. \n",
    "The basic operator algebra is implemented in `QPV2`. Although only ground terms (variable-free expressions) are allowed, it enables us to express many verification scenes without too much compromise.\n",
    "Thanks to Python's numerical calculation and the structure of projective predicates, all properties of operators and programs are decidable here, which makes the tool highly automated.\n",
    "\n"
   ]
  },
  {
   "cell_type": "markdown",
   "metadata": {},
   "source": [
    "## Installation\n",
    "\n",
    "After cloning the repository, navigate to its root folder and run\n",
    "```\n",
    "pip install -r requirements.txt\n",
    "```\n",
    "It will install all the dependent packages. Afterwards, test whether the software works well by running\n",
    "```\n",
    "pytest\n",
    "```\n",
    "If the all test are passed then the tool is well installed."
   ]
  },
  {
   "cell_type": "markdown",
   "metadata": {},
   "source": [
    "## Hello World Example"
   ]
  },
  {
   "cell_type": "markdown",
   "metadata": {},
   "source": [
    "This is a simple example demonstrating the function and usage of QPV2. In the example, We refine the prescription $$[\\mathrm{pre}: \\ket{00}_{p, q} \\bra{00}, \\mathrm{post}: \\ket{++}_{p, q}\\bra{++}]$$ with program $prog$ and simulate the computing result."
   ]
  },
  {
   "cell_type": "code",
   "execution_count": 9,
   "metadata": {},
   "outputs": [],
   "source": [
    "from qpv2 import *\n",
    "prover_restart()\n",
    "prover(\n",
    "    r'''\n",
    "    Def HH := (H \\otimes H).\n",
    "    Def prog := Prog HH[p q].\n",
    "    Refine pf : < P0[p] \\otimes P0[q], Pp[p] \\otimes Pp[q] >.\n",
    "        Step proc prog.\n",
    "    End.\n",
    "    Def res := [[proc pf]](c1[]).\n",
    "    '''\n",
    ")"
   ]
  },
  {
   "cell_type": "markdown",
   "metadata": {},
   "source": [
    "Here is the step-wise explanation.\n",
    "\n",
    "First we import the package and reset the prover."
   ]
  },
  {
   "cell_type": "code",
   "execution_count": 10,
   "metadata": {},
   "outputs": [
    {
     "name": "stdout",
     "output_type": "stream",
     "text": [
      "\n",
      "----------------------------------------\n",
      "= Info (line 1) =\n",
      "\n",
      "Emtpy Prover.\n",
      "\n"
     ]
    }
   ],
   "source": [
    "from qpv2 import *\n",
    "prover_restart()\n",
    "print(prover_info())"
   ]
  },
  {
   "cell_type": "markdown",
   "metadata": {},
   "source": [
    "The prover has a variable environment, and commonly used quantum operators are predefined in the environment. Use `Show Def.` to print all the definitions."
   ]
  },
  {
   "cell_type": "code",
   "execution_count": 11,
   "metadata": {},
   "outputs": [
    {
     "name": "stdout",
     "output_type": "stream",
     "text": [
      "\n",
      "----------------------------------------\n",
      "= Info (line 1) =\n",
      "\n",
      "Definitions: \n",
      "c1\n",
      "c0\n",
      "I\n",
      "X\n",
      "Y\n",
      "Z\n",
      "H\n",
      "S\n",
      "CX\n",
      "CZ\n",
      "CH\n",
      "SWAP\n",
      "CCX\n",
      "Zero0\n",
      "Zero\n",
      "P0\n",
      "P1\n",
      "Pp\n",
      "Pm\n",
      "Omega\n",
      "E10\n",
      "E'P0\n",
      "E'P1\n",
      "E'DP\n",
      "E'Set0\n",
      "\n",
      "\n"
     ]
    }
   ],
   "source": [
    "prover(r\"Show Def.\")\n",
    "print(prover_info())"
   ]
  },
  {
   "cell_type": "markdown",
   "metadata": {},
   "source": [
    "Use `Show <ID>.` to print the definition."
   ]
  },
  {
   "cell_type": "code",
   "execution_count": 12,
   "metadata": {},
   "outputs": [
    {
     "name": "stdout",
     "output_type": "stream",
     "text": [
      "\n",
      "----------------------------------------\n",
      "= Info (line 1) =\n",
      "\n",
      "Show CX: \n",
      "[[1. 0. 0. 0.]\n",
      " [0. 1. 0. 0.]\n",
      " [0. 0. 0. 1.]\n",
      " [0. 0. 1. 0.]]\n",
      "\n"
     ]
    }
   ],
   "source": [
    "prover(r\"Show CX.\")\n",
    "print(prover_info())"
   ]
  },
  {
   "cell_type": "markdown",
   "metadata": {},
   "source": [
    "Define an operator."
   ]
  },
  {
   "cell_type": "code",
   "execution_count": 13,
   "metadata": {},
   "outputs": [
    {
     "name": "stdout",
     "output_type": "stream",
     "text": [
      "\n",
      "----------------------------------------\n",
      "= Info (line 1) =\n",
      "\n",
      "Show HH: \n",
      "(H ⊗ H)\n",
      "\n"
     ]
    }
   ],
   "source": [
    "prover(r\"Def HH := (H \\otimes H). Show HH.\")\n",
    "print(prover_info())"
   ]
  },
  {
   "cell_type": "markdown",
   "metadata": {},
   "source": [
    "Define the program $prog$ using operator $HH$."
   ]
  },
  {
   "cell_type": "code",
   "execution_count": 14,
   "metadata": {},
   "outputs": [
    {
     "name": "stdout",
     "output_type": "stream",
     "text": [
      "\n",
      "----------------------------------------\n",
      "= Info (line 5) =\n",
      "\n",
      "Show prog: \n",
      "HH[p q]\n",
      "\n"
     ]
    }
   ],
   "source": [
    "prover(r'''\n",
    "       Def prog := Prog \n",
    "            HH[p q]. \n",
    "       Show prog.\n",
    "       ''')\n",
    "print(prover_info())"
   ]
  },
  {
   "cell_type": "markdown",
   "metadata": {},
   "source": [
    "Then we conduct a refinement. We need a program which transforms $\\ket{00}$ state into $\\ket{++}$ state, so the program prescription is:\n",
    "$$\n",
    "[\\mathrm{pre}: \\ket{00}_{p, q} \\bra{00}, \\mathrm{post}: \\ket{++}_{p, q}\\bra{++}].\n",
    "$$"
   ]
  },
  {
   "cell_type": "code",
   "execution_count": 15,
   "metadata": {},
   "outputs": [
    {
     "name": "stdout",
     "output_type": "stream",
     "text": [
      "----------------------------------------\n",
      "= Refinement Mode =\n",
      "\n",
      "Goal (1/1)\n",
      "< (P0[p] ⊗ P0[q]), (Pp[p] ⊗ Pp[q]) >\n",
      "\n",
      "----------------------------------------\n",
      "= Info (line 7) =\n",
      "\n",
      "Refinement starts.\n",
      "\n"
     ]
    }
   ],
   "source": [
    "prover(r'''\n",
    "    Refine pf : < P0[p] \\otimes P0[q], Pp[p] \\otimes Pp[q] >.\n",
    "''')\n",
    "print(prover_info())"
   ]
  },
  {
   "cell_type": "markdown",
   "metadata": {},
   "source": [
    "And as the information suggested, we entered the refinement mode. It quite resembles the proof mode in other interactive theorem provers, but here the goals become the prescriptions to be refined.\n",
    "\n",
    "Actually, the program $prog$ we have defined satisfies this prescription. We then use it to complete the goal and finish the refinement."
   ]
  },
  {
   "cell_type": "markdown",
   "metadata": {},
   "source": [
    "prover(r'''\n",
    "    Step proc prog.\n",
    "    End.\n",
    "''')\n",
    "print(prover_info())"
   ]
  },
  {
   "cell_type": "markdown",
   "metadata": {},
   "source": [
    "Calculate the classical simulation of $\\llbracket prog \\rrbracket (1)$. Note that here the density operator $1$ is automatically extended to the system of $[p\\ q]$, with the assumption that their initial states are $\\ket{0}$.\n",
    "\n",
    "The result state is $\\ket{++}_{p,q}$, exactly as expected."
   ]
  },
  {
   "cell_type": "code",
   "execution_count": 16,
   "metadata": {},
   "outputs": [
    {
     "name": "stdout",
     "output_type": "stream",
     "text": [
      "----------------------------------------\n",
      "= Refinement Mode =\n",
      "\n",
      "Goal (1/1)\n",
      "< (P0[p] ⊗ P0[q]), (Pp[p] ⊗ Pp[q]) >\n",
      "\n",
      "----------------------------------------\n",
      "= Info (line 7) =\n",
      "\n",
      "Show res: \n",
      "[[0.25 0.25 0.25 0.25]\n",
      " [0.25 0.25 0.25 0.25]\n",
      " [0.25 0.25 0.25 0.25]\n",
      " [0.25 0.25 0.25 0.25]][p q]\n",
      "\n"
     ]
    }
   ],
   "source": [
    "prover(r\"Def res := [[proc prog]](c1[]). Show res.\")\n",
    "print(prover_info())"
   ]
  },
  {
   "cell_type": "markdown",
   "metadata": {},
   "source": [
    "## Documentation"
   ]
  },
  {
   "cell_type": "markdown",
   "metadata": {},
   "source": [
    "This section explains the Python interface, commands and syntax of `QPV2`.\n"
   ]
  },
  {
   "cell_type": "markdown",
   "metadata": {},
   "source": [
    "### Python Interface\n",
    "\n",
    "- `qpv2_code(input_code, opts)`\n",
    "  \n",
    "    Reset the prover with extra operators in `opt`, and process the `QPV2` commands in the string `input_code`.\n",
    "\n",
    "- `qpv2_file(input_path, opts)`\n",
    "  \n",
    "    Reset the prover with extra operators in `opt`, and process the `QPV2` commands in the file at `input_path`.\n",
    "\n",
    "- `qpv2_server(input, output, opts)`\n",
    "  \n",
    "    Reset the prover with extra operators in `opt`, and start an interactive server which processes `QPV2` commands in the file `input` and output information in the file `output`.\\\\\n",
    "    Note: Modify and save the `input` file to update the input, and use `Ctrl+C` to close the server."
   ]
  },
  {
   "cell_type": "markdown",
   "metadata": {},
   "source": [
    "\n",
    "In the following introduction of syntax, $C$ denotes an identifier for a constant, $stm$ denotes a quantum program, $qvar$ denotes a quantum register, $o$ denotes an unlabelled operator and $oi$ denotes a labelled quantum operator."
   ]
  },
  {
   "cell_type": "markdown",
   "metadata": {},
   "source": [
    "### `QPV2` commands\n",
    "\n",
    "- $\\texttt{Def}\\ C\\ \\texttt{:=}\\ o \\texttt{.}$\n",
    "    \n",
    "    Define the constant $C$ as the unlabelled operator $o$.\n",
    "    \n",
    "- $\\texttt{Def}\\ C\\ \\texttt{:=}\\ oi \\texttt{.}$\n",
    "  \n",
    "    Define the constant $C$ as the labelled operator $oi$.\n",
    "    \n",
    "- $\\texttt{Def}\\ C\\ \\texttt{:= [[}stm \\texttt{]](} oi \\texttt{).}$\n",
    "  \n",
    "    Define the constant $C$ as the classical simulation result of executing quantum program $stm$ on the quantum state $oi$.\n",
    "    \n",
    "- $\\texttt{Def}\\ C\\ \\texttt{:=}\\ \\texttt{Prog}\\ stm \\texttt{.}$\n",
    "  \n",
    "    Define the constant $C$ as the quantum program $stm$.\n",
    "    \n",
    "- $\\texttt{Def}\\ C_1\\ \\texttt{:=}\\ \\texttt{Extract}\\ C_2 \\texttt{.}$\n",
    "    Define the constant $C_1$ as the extracted program of program/proof $C_2$.\n",
    "    \n",
    "- $\\texttt{Refine}\\ C : pres \\texttt{.}$\n",
    "  \n",
    "    Define $C$ as the prescription $pres$ and start the step-wise refinement mode on it.\n",
    "      \n",
    "- $\\texttt{Step}\\ stm \\texttt{.}$\n",
    "  \n",
    "    (refinement mode) Try to refine the current goal with program $stm$. \n",
    "    \n",
    "- $\\texttt{Step}\\ \\texttt{Seq}\\ oi \\texttt{.}$\n",
    "  \n",
    "    (refinement mode) Apply the refinement rule $[P, Q] \\sqsubseteq [P, R]; [R, Q]$ to the current goal, where $R$ is specified by $oi$.\n",
    "    \n",
    "- $\\texttt{Step}\\ \\texttt{If}\\ oi \\texttt{.}$\n",
    "  \n",
    "    (refinement mode) Apply the refinement rule \n",
    "    $$\n",
    "    [P,Q]_{\\bar{q}}\\equiv if \\ R[\\bar{q}]\\ then \\ [R\\doublecap P, Q]_{\\bar{q}}\\ else \\ [R^\\bot\\doublecap P, Q]_{\\bar{q}} end\n",
    "    $$ \n",
    "    to the current goal, where $R$ is specified by $oi$.\n",
    "    \n",
    "- $\\texttt{Step}\\ \\texttt{While}\\ oi_1\\ \\texttt{Inv}\\ oi_2 \\texttt{.}$\n",
    "    \n",
    "    (refinement mode) Apply the refinement rule \n",
    "    $$\n",
    "    [Inv, P^\\bot \\doublecap Inv]_{\\bar{q}}\\le while\\ P[\\bar{q}]\\ do\\ [P\\doublecap Inv, Inv]_{\\bar{q}}\\ end\n",
    "    $$\n",
    "    to the current goal, where $P$, $Inv$ are specified by $oi_1$, $oi_2$ respectively.\n",
    "    \n",
    "- $\\texttt{Choose}\\ N \\texttt{.}$\n",
    "  \n",
    "    (refinement mode) Chose the $N$-th goal as the current goal.\n",
    "    \n",
    "- $\\texttt{End} \\texttt{.}$\n",
    "  \n",
    "    (refinement mode) Complete the refinement when all goals are clear.\n",
    "    \n",
    "- $\\texttt{Pause} \\texttt{.}$\n",
    "  \n",
    "    (interactive server) Pause the parsing of input file so that the current information of the prover can be shown in the output file.\n",
    "    \n",
    "- $\\texttt{Show}\\ \\texttt{Def} \\texttt{.}$\n",
    "    \n",
    "    Print all the names for definitions in the environment.\n",
    "    \n",
    "- $\\texttt{Show}\\ C \\texttt{.}$\n",
    "  \n",
    "    Print the definition of $C$.\n",
    "    \n",
    "- $\\texttt{Eval}\\ C \\texttt{.}$\n",
    "  \n",
    "    Evaluate the definition $C$ (e.g. operator expressions) and print the value.\n",
    "    \n",
    "- $\\texttt{Test}\\ o_1\\ \\texttt{=}\\ o_2 \\texttt{.}$\n",
    "  \n",
    "    Test whether $o_1 = o_2$ for unlabelled operators $o_1$ and $o_2$.\n",
    "    \n",
    "- $\\texttt{Test}\\ o_1\\ \\texttt{<=}\\ o_2 \\texttt{.}$\n",
    "  \n",
    "    Test whether $o_1 \\sqsubseteq o_2$ for unlabelled operators $o_1$ and $o_2$.\n",
    "    \n",
    "- $\\texttt{Test}\\ oi_1\\ \\texttt{=}\\ oi_2 \\texttt{.}$\n",
    "  \n",
    "    Test whether $oi_1 = oi_2$ for labelled operators $o_1$ and $o_2$.\n",
    "    \n",
    "- $\\texttt{Test}\\ oi_1\\ \\texttt{<=}\\ oi_2 \\texttt{.}$\n",
    "  \n",
    "    Test whether $oi_1 \\sqsubseteq oi_2$ for labelled operators $o_1$ and $o_2$."
   ]
  },
  {
   "cell_type": "markdown",
   "metadata": {},
   "source": [
    "### Constructing Program"
   ]
  },
  {
   "cell_type": "markdown",
   "metadata": {},
   "source": [
    "Quantum program statements, denoted as $stm$, are generated by the following grammar.\n",
    "- $\\texttt{abort}$\n",
    "- $\\texttt{skip}$\n",
    "- $qvar \\texttt{:=0}$\n",
    "- $oi$\n",
    "- $\\texttt{assert}\\ oi$\n",
    "- $\\texttt{< } oi_1\\texttt{, } oi_2 \\texttt{ >}$\n",
    "- $ stm_1 \\texttt{; }stm_2 $\n",
    "- $ \\texttt{(} stm_1\\ \\texttt{[} p\\ \\oplus\\texttt{]}\\ stm_2 \\texttt{)}$\n",
    "- $ \\texttt{if}\\ oi\\ \\texttt{then}\\ stm_1\\ \\texttt{else}\\ stm_0\\ \\texttt{end}$\n",
    "- $ \\texttt{while}\\ oi\\ \\texttt{do}\\ stm\\ \\texttt{end}$\n",
    "- $ \\texttt{proc}\\ C$\n",
    "- $ pres\\ \\texttt{<=}\\ stm$"
   ]
  },
  {
   "cell_type": "markdown",
   "metadata": {},
   "source": [
    "### Quantum Variables"
   ]
  },
  {
   "cell_type": "markdown",
   "metadata": {},
   "source": [
    "In QPV2, the whole quantum system consists of qubits, and every qubit is denoted by an identifier (a string following the regular expression `[a-zA-Z\\'][a-zA-Z\\'0-9]*`). A quantum variable is an ordered list of unique qubit identifiers. For example, valid quantum variables include:\n",
    "- `[]`, `[p]`, `[p q r']`, ...\n",
    "  \n",
    "And invalid quantum variables include:\n",
    "- `[p p]`, `[1p 2q]`, ..."
   ]
  },
  {
   "cell_type": "markdown",
   "metadata": {},
   "source": [
    "### Constructing Operators"
   ]
  },
  {
   "cell_type": "markdown",
   "metadata": {},
   "source": [
    "The grammar for unlabelled quantum variable is:\n",
    "\n",
    "$$\n",
    "\\begin{aligned}\n",
    "    o ::=\\ &C\\ |\\ - o\\ |\\ o + o\\ |\\ o - o\\\\\n",
    "        & |\\ c * o\\ |\\ c\\ o\\ \\\\\n",
    "        & |\\ o * o\\ |\\ o\\dagger \\\\\n",
    "        & |\\ o \\otimes o\\ \\\\\n",
    "        & |\\ o \\vee o\\ |\\ o \\wedge o\\ |\\ o\\ \\^{} \\bot \\\\\n",
    "        & |\\ o \\rightsquigarrow o\\ |\\ o \\Cap o.\n",
    "\\end{aligned}\n",
    "$$"
   ]
  },
  {
   "cell_type": "markdown",
   "metadata": {},
   "source": [
    "The grammar for labelled quantum variable is:\n",
    "$$\n",
    "\\begin{aligned}\n",
    "    oi ::= \\ & \\text{\\texttt{IQOPT}}\\ C\\ |\\ o\\ qvar \\\\\n",
    "        & |\\ -oi\\ |\\ oi + oi\\ |\\ oi - oi\\\\\n",
    "        & |\\ c*oi\\ |\\ c\\ oi\\\\\n",
    "        & |\\ oi * oi\\ |\\ oi\\dagger\\\\\n",
    "        & |\\ oi \\otimes oi\\\\\n",
    "        & |\\ oi \\vee oi\\ |\\ oi \\wedge oi\\ |\\ oi\\ \\^{}\\bot\\\\\n",
    "        & |\\ oi \\rightsquigarrow oi\\ |\\ oi \\Cap oi.\n",
    "\\end{aligned}\n",
    "$$"
   ]
  },
  {
   "cell_type": "markdown",
   "metadata": {},
   "source": [
    "The Unicode characters can be replaced by ASCII strings:\n",
    "$\\dagger$ by \\\\dagger, $\\otimes$ by \\\\otimes, $\\vee$ by \\\\vee, $\\wedge$ by \\\\wedge, $\\bot$ by \\\\bot, $\\rightsquigarrow$ by \\\\SasakiImply and $\\Cap$ by \\\\SasakiConjunct."
   ]
  }
 ],
 "metadata": {
  "kernelspec": {
   "display_name": "base",
   "language": "python",
   "name": "python3"
  },
  "language_info": {
   "codemirror_mode": {
    "name": "ipython",
    "version": 3
   },
   "file_extension": ".py",
   "mimetype": "text/x-python",
   "name": "python",
   "nbconvert_exporter": "python",
   "pygments_lexer": "ipython3",
   "version": "3.9.12"
  }
 },
 "nbformat": 4,
 "nbformat_minor": 2
}
