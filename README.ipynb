{
 "cells": [
  {
   "cell_type": "markdown",
   "metadata": {},
   "source": [
    "# QPV2\n",
    "QPV2 is an automatic quantum program verifier based on Python. Using a simple environment for definitions, it deals with the calculation and verification of quantum operators and programs. It helps users build operators with Dirac notations from the Python matrices, write valid quantum programs, conduct the classical simulataion and checks whether the program behaves as expected.\n"
   ]
  },
  {
   "cell_type": "markdown",
   "metadata": {},
   "source": [
    "## Installation\n",
    "\n",
    "After cloning the repository, navigate to its root folder and run\n",
    "```\n",
    "pip install -r requirements.txt\n",
    "```\n",
    "It will install all the dependent packages. Afterwards, test whether the software works well by running\n",
    "```\n",
    "pytest\n",
    "```\n",
    "If the all test are passed then the tool is well installed."
   ]
  },
  {
   "cell_type": "markdown",
   "metadata": {},
   "source": [
    "## Hello World Example"
   ]
  },
  {
   "cell_type": "markdown",
   "metadata": {},
   "source": [
    "This is a simple example demonstrating the function and usage of QPV2. In the example, We refine the prescription $$[\\mathrm{pre}: \\ket{00}_{p, q} \\bra{00}, \\mathrm{post}: \\ket{++}_{p, q}\\bra{++}]$$ with program $prog$ and simulate the computing result."
   ]
  },
  {
   "cell_type": "code",
   "execution_count": 12,
   "metadata": {},
   "outputs": [],
   "source": [
    "from qpv2 import *\n",
    "prover_restart()\n",
    "prover(\n",
    "    r'''\n",
    "    Def HH := (H \\otimes H).\n",
    "    Def prog := Prog HH[p q].\n",
    "    Refine pf : [pre : P0[p] \\otimes P0[q], post : Pp[p] \\otimes Pp[q]].\n",
    "        Step proc prog.\n",
    "    End.\n",
    "    Def res := [[proc pf]](c1[]).\n",
    "    '''\n",
    ")"
   ]
  },
  {
   "cell_type": "markdown",
   "metadata": {},
   "source": [
    "Here is the step-wise explanation.\n",
    "\n",
    "First we import the package and reset the prover."
   ]
  },
  {
   "cell_type": "code",
   "execution_count": 13,
   "metadata": {},
   "outputs": [
    {
     "name": "stdout",
     "output_type": "stream",
     "text": [
      "\n",
      "----------------------------------------\n",
      "= Info (line 1) =\n",
      "\n",
      "Emtpy Prover.\n",
      "\n"
     ]
    }
   ],
   "source": [
    "from qpv2 import *\n",
    "prover_restart()\n",
    "print(prover_info())"
   ]
  },
  {
   "cell_type": "markdown",
   "metadata": {},
   "source": [
    "The prover has a variable environment, and commonly used quantum operators are predefined in the environment. Use `Show Def.` to print all the definitions."
   ]
  },
  {
   "cell_type": "code",
   "execution_count": 14,
   "metadata": {},
   "outputs": [
    {
     "name": "stdout",
     "output_type": "stream",
     "text": [
      "\n",
      "----------------------------------------\n",
      "= Info (line 1) =\n",
      "\n",
      "Definitions: \n",
      "c1\n",
      "c0\n",
      "I\n",
      "X\n",
      "Y\n",
      "Z\n",
      "H\n",
      "S\n",
      "CX\n",
      "CZ\n",
      "CH\n",
      "SWAP\n",
      "CCX\n",
      "Idiv2\n",
      "Zero0\n",
      "Zero\n",
      "P0\n",
      "P0div2\n",
      "P1\n",
      "P1div2\n",
      "Pp\n",
      "Ppdiv2\n",
      "Pm\n",
      "Pmdiv2\n",
      "P00\n",
      "Eq01_2\n",
      "Neq01_2\n",
      "Eq01_3\n",
      "Omega\n",
      "E10\n",
      "E'P0\n",
      "E'P1\n",
      "E'DP\n",
      "E'Set0\n",
      "\n",
      "\n"
     ]
    }
   ],
   "source": [
    "prover(r\"Show Def.\")\n",
    "print(prover_info())"
   ]
  },
  {
   "cell_type": "markdown",
   "metadata": {},
   "source": [
    "Use `Show <ID>.` to print the definition."
   ]
  },
  {
   "cell_type": "code",
   "execution_count": 15,
   "metadata": {},
   "outputs": [
    {
     "name": "stdout",
     "output_type": "stream",
     "text": [
      "\n",
      "----------------------------------------\n",
      "= Info (line 1) =\n",
      "\n",
      "Show CX: \n",
      "[[1. 0. 0. 0.]\n",
      " [0. 1. 0. 0.]\n",
      " [0. 0. 0. 1.]\n",
      " [0. 0. 1. 0.]]\n",
      "\n"
     ]
    }
   ],
   "source": [
    "prover(r\"Show CX.\")\n",
    "print(prover_info())"
   ]
  },
  {
   "cell_type": "markdown",
   "metadata": {},
   "source": [
    "Define an operator."
   ]
  },
  {
   "cell_type": "code",
   "execution_count": 16,
   "metadata": {},
   "outputs": [
    {
     "name": "stdout",
     "output_type": "stream",
     "text": [
      "\n",
      "----------------------------------------\n",
      "= Info (line 1) =\n",
      "\n",
      "Show HH: \n",
      "(H ⊗ H)\n",
      "\n"
     ]
    }
   ],
   "source": [
    "prover(r\"Def HH := (H \\otimes H). Show HH.\")\n",
    "print(prover_info())"
   ]
  },
  {
   "cell_type": "markdown",
   "metadata": {},
   "source": [
    "Define the program $prog$ using operator $HH$."
   ]
  },
  {
   "cell_type": "code",
   "execution_count": 17,
   "metadata": {},
   "outputs": [
    {
     "name": "stdout",
     "output_type": "stream",
     "text": [
      "\n",
      "----------------------------------------\n",
      "= Info (line 1) =\n",
      "\n",
      "Show prog: \n",
      "HH[p q]\n",
      "\n"
     ]
    }
   ],
   "source": [
    "prover(r'''\n",
    "       Def prog := Prog \n",
    "            HH[p q]. \n",
    "       Show prog.\n",
    "       ''')\n",
    "print(prover_info())"
   ]
  },
  {
   "cell_type": "markdown",
   "metadata": {},
   "source": [
    "Then we conduct a refinement. We need a program which transforms $\\ket{00}$ state into $\\ket{++}$ state, so the program prescription is:\n",
    "$$\n",
    "[\\mathrm{pre}: \\ket{00}_{p, q} \\bra{00}, \\mathrm{post}: \\ket{++}_{p, q}\\bra{++}].\n",
    "$$"
   ]
  },
  {
   "cell_type": "code",
   "execution_count": 18,
   "metadata": {},
   "outputs": [
    {
     "name": "stdout",
     "output_type": "stream",
     "text": [
      "----------------------------------------\n",
      "= Refinement Mode =\n",
      "\n",
      "Goal (1/1)\n",
      "[ pre: (P0[p] ⊗ P0[q]), post: (Pp[p] ⊗ Pp[q]) ]\n",
      "\n",
      "----------------------------------------\n",
      "= Info (line 3) =\n",
      "\n",
      "Refinement starts.\n",
      "\n"
     ]
    }
   ],
   "source": [
    "prover(r'''\n",
    "    Refine pf : [pre : P0[p] \\otimes P0[q], post : Pp[p] \\otimes Pp[q]].\n",
    "''')\n",
    "print(prover_info())"
   ]
  },
  {
   "cell_type": "markdown",
   "metadata": {},
   "source": [
    "And as the information suggested, we entered the refinement mode. It quite resembles the proof mode in other interactive theorem provers, but here the goals become the prescriptions to be refined.\n",
    "\n",
    "Actually, the program $prog$ we have defined satisfies this prescription. We then use it to complete the goal and finish the refinement."
   ]
  },
  {
   "cell_type": "markdown",
   "metadata": {},
   "source": [
    "prover(r'''\n",
    "    Step proc prog.\n",
    "    End.\n",
    "''')\n",
    "print(prover_info())"
   ]
  },
  {
   "cell_type": "markdown",
   "metadata": {},
   "source": [
    "Calculate the classical simulation of $\\llbracket prog \\rrbracket (1)$. Note that here the density operator $1$ is automatically extended to the system of $[p\\ q]$, with the assumption that their initial states are $\\ket{0}$.\n",
    "\n",
    "The result state is $\\ket{++}_{p,q}$, exactly as expected."
   ]
  },
  {
   "cell_type": "code",
   "execution_count": 20,
   "metadata": {},
   "outputs": [
    {
     "name": "stdout",
     "output_type": "stream",
     "text": [
      "\n",
      "----------------------------------------\n",
      "= Info (line 6) =\n",
      "\n",
      "Show res: \n",
      "[[0.25 0.25 0.25 0.25]\n",
      " [0.25 0.25 0.25 0.25]\n",
      " [0.25 0.25 0.25 0.25]\n",
      " [0.25 0.25 0.25 0.25]][p q]\n",
      "\n"
     ]
    }
   ],
   "source": [
    "prover(r\"Def res := [[proc prog]](c1[]). Show res.\")\n",
    "print(prover_info())"
   ]
  },
  {
   "cell_type": "markdown",
   "metadata": {},
   "source": [
    "## Quantum Variables"
   ]
  },
  {
   "cell_type": "markdown",
   "metadata": {},
   "source": [
    "In QPV2, the whole quantum system consists of qubits, and every qubit is denoted by an identifier (a string following the regular expression `[a-zA-Z\\'][a-zA-Z\\'0-9]*`). A quantum variable is an ordered list of unique qubit identifiers. For example, valid quantum variables include:\n",
    "- `[]`, `[p]`, `[p q r']`, ...\n",
    "  \n",
    "And invalid quantum variables include:\n",
    "- `[p p]`, `[1p 2q]`, ..."
   ]
  },
  {
   "cell_type": "markdown",
   "metadata": {},
   "source": [
    "## Constructing Operators"
   ]
  },
  {
   "cell_type": "markdown",
   "metadata": {},
   "source": [
    "QPV2 uses a natural grammar to encode Dirac notations and express quantum operators. In QPV2, operators are divided into two types: those without quantum variable indices (unlabelled) are denoted as $o$, and those indexed operators are denoted as $oi$."
   ]
  },
  {
   "cell_type": "markdown",
   "metadata": {},
   "source": [
    "The grammar for unlabelled quantum variable is:\n",
    "\n",
    "$$\n",
    "\\begin{aligned}\n",
    "    o ::=\\ &C\\ |\\ - o\\ |\\ o + o\\ |\\ o - o\\\\\n",
    "        & |\\ c * o\\ |\\ c\\ o\\ \\\\\n",
    "        & |\\ o * o\\ |\\ o\\ o\\ |\\ o^\\dagger \\\\\n",
    "        & |\\ o \\otimes o\\ \\\\\n",
    "        & |\\ o \\vee o\\ |\\ o \\wedge o\\ |\\ o\\ \\^{} \\bot \\\\\n",
    "        & |\\ o \\rightsquigarrow o\\ |\\ o \\Cap o.\n",
    "\\end{aligned}\n",
    "$$"
   ]
  },
  {
   "cell_type": "markdown",
   "metadata": {},
   "source": [
    "The grammar for labelled quantum variable is:\n",
    "$$\n",
    "\\begin{aligned}\n",
    "    oi ::= \\ & \\text{\\texttt{IQOPT}}\\ C\\ |\\ o\\ qvar \\\\\n",
    "        & |\\ -oi\\ |\\ oi + oi\\ |\\ oi - oi\\\\\n",
    "        & |\\ c*oi\\ |\\ c\\ oi\\\\\n",
    "        & |\\ oi * oi\\ |\\ oi\\ oi\\ |\\ oi^\\dagger\\\\\n",
    "        & |\\ oi \\otimes oi\\\\\n",
    "        & |\\ oi \\vee oi\\ |\\ oi \\wedge oi\\ |\\ oi\\ \\^{}\\bot\\\\\n",
    "        & |\\ oi \\rightsquigarrow oi\\ |\\ oi \\Cap oi.\n",
    "\\end{aligned}\n",
    "$$"
   ]
  },
  {
   "cell_type": "markdown",
   "metadata": {},
   "source": [
    "## Constructing Program"
   ]
  },
  {
   "cell_type": "markdown",
   "metadata": {},
   "source": [
    "Quantum program statements, denoted as $stm$, are generated by the following grammar.\n",
    "- $\\texttt{abort}$\n",
    "- $\\texttt{skip}$\n",
    "- $qvar \\texttt{:=0}$\n",
    "- $oi$\n",
    "- $\\texttt{assert}\\ oi$\n",
    "- $\\texttt{[pre: } oi_1\\texttt{, post: } oi_2 \\texttt{]}$\n",
    "- $ stm_1 \\texttt{; }stm_2 $\n",
    "- $ \\texttt{(} stm_1\\ p\\ \\oplus\\ stm_2 \\texttt{)}$\n",
    "- $ \\texttt{if}\\ oi\\ \\texttt{then}\\ stm_1\\ \\texttt{else}\\ stm_0\\ \\texttt{end}$\n",
    "- $ \\texttt{while}\\ oi\\ \\texttt{do}\\ stm\\ \\texttt{end}$\n",
    "- $ \\texttt{proc}\\ C$\n",
    "- $ prec\\ \\texttt{==>}\\ stm$"
   ]
  },
  {
   "cell_type": "markdown",
   "metadata": {},
   "source": [
    "## QPV2 Language"
   ]
  },
  {
   "cell_type": "markdown",
   "metadata": {},
   "source": [
    "The QPV2 tool is manipulated by a simple imperative language, which consists of a sequence of commands. Here is the introduction to the commands."
   ]
  },
  {
   "cell_type": "markdown",
   "metadata": {},
   "source": [
    "- $\\texttt{Def}\\ C\\ \\texttt{:=}\\ o \\texttt{.}$\n",
    "- $\\texttt{Def}\\ C\\ \\texttt{:=}\\ oi \\texttt{.}$\n",
    "- $\\texttt{Def}\\ C\\ \\texttt{:= [[}\\ stm \\texttt{]](} oi \\texttt{).} $\n",
    "- $\\texttt{Def}\\ C\\ \\texttt{:=}\\ \\texttt{Prog}\\ stm \\texttt{.}$\n",
    "- $\\texttt{Def}\\ C\\ \\texttt{:=}\\ \\texttt{Extract}\\ C \\texttt{.}$\n",
    "\n",
    "- $\\texttt{Refine}\\ C : pres \\texttt{.}$\n",
    "- $\\texttt{Step}\\ stm \\texttt{.}$\n",
    "- $\\texttt{Step}\\ \\texttt{Seq}\\ oi \\texttt{.}$\n",
    "- $\\texttt{Step}\\ \\texttt{If}\\ oi \\texttt{.}$\n",
    "- $\\texttt{Step}\\ \\texttt{While}\\ oi_1\\ \\texttt{Inv}\\ oi_2 \\texttt{.}$\n",
    "- $\\texttt{Choose}\\ N \\texttt{.}$\n",
    "- $\\texttt{End} \\texttt{.}$\n",
    "\n",
    "- $\\texttt{Pause} \\texttt{.}$\n",
    "- $\\texttt{Show}\\ \\texttt{Def} \\texttt{.}$\n",
    "- $\\texttt{Show}\\ C \\texttt{.}$\n",
    "- $\\texttt{Eval}\\ C \\texttt{.}$\n",
    "- $\\texttt{Test}\\ o_1\\ \\texttt{=}\\ o_2 \\texttt{.}$\n",
    "- $\\texttt{Test}\\ o_1\\ \\texttt{<=}\\ o_2 \\texttt{.}$\n",
    "- $\\texttt{Test}\\ oi_1\\ \\texttt{=}\\ oi_2 \\texttt{.}$\n",
    "- $\\texttt{Test}\\ oi_1\\ \\texttt{<=}\\ oi_2 \\texttt{.}$\n",
    "\n"
   ]
  },
  {
   "cell_type": "markdown",
   "metadata": {},
   "source": []
  }
 ],
 "metadata": {
  "kernelspec": {
   "display_name": "base",
   "language": "python",
   "name": "python3"
  },
  "language_info": {
   "codemirror_mode": {
    "name": "ipython",
    "version": 3
   },
   "file_extension": ".py",
   "mimetype": "text/x-python",
   "name": "python",
   "nbconvert_exporter": "python",
   "pygments_lexer": "ipython3",
   "version": "3.9.12"
  }
 },
 "nbformat": 4,
 "nbformat_minor": 2
}
