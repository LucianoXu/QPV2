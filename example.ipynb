{
 "cells": [
  {
   "cell_type": "code",
   "execution_count": 1,
   "metadata": {},
   "outputs": [],
   "source": [
    "import qpv2"
   ]
  },
  {
   "cell_type": "code",
   "execution_count": 2,
   "metadata": {},
   "outputs": [],
   "source": [
    "code = r'''\n",
    "    abort;\n",
    "    skip;\n",
    "    [q p] :=0;\n",
    "    (H \\otimes X)[p q];\n",
    "    assert Pp[p];\n",
    "    [ pre: Pp[p], post: P1[p]];\n",
    "    ( skip _ 0.52 \\otimes H[p] );\n",
    "    if (P1[q] \\wedge P0[p]) then\n",
    "        CX[q p]\n",
    "    else\n",
    "        while Pm[p] do\n",
    "            H[p]\n",
    "        end\n",
    "    end\n",
    "'''"
   ]
  },
  {
   "cell_type": "code",
   "execution_count": 3,
   "metadata": {},
   "outputs": [
    {
     "name": "stdout",
     "output_type": "stream",
     "text": [
      "abort;\n",
      "skip;\n",
      "[q p]:=0;\n",
      "(H⊗X)[p q];\n",
      "assert Pp[p];\n",
      "[ pre: Pp[p], post: P1[p] ];\n",
      "(\n",
      "  skip\n",
      "_0.52⊗\n",
      "  H[p]\n",
      ");\n",
      "if (P1[q] ∧ P0[p]) then\n",
      "  CX[q p]\n",
      "else\n",
      "  while Pm[p] do\n",
      "    H[p]\n",
      "  end\n",
      "end\n"
     ]
    }
   ],
   "source": [
    "res = qpv2.parser.parse(code)\n",
    "print(res)"
   ]
  },
  {
   "cell_type": "markdown",
   "metadata": {},
   "source": [
    "## Forward Calculation"
   ]
  },
  {
   "cell_type": "code",
   "execution_count": 4,
   "metadata": {},
   "outputs": [
    {
     "name": "stdout",
     "output_type": "stream",
     "text": [
      "[[1.]][]\n"
     ]
    }
   ],
   "source": [
    "rho0 = qpv2.OPTParser.parse(\"c1[]\").eval()\n",
    "print(rho0)"
   ]
  },
  {
   "cell_type": "code",
   "execution_count": 5,
   "metadata": {},
   "outputs": [
    {
     "name": "stdout",
     "output_type": "stream",
     "text": [
      "[p]:=0;\n",
      "[q]:=0;\n",
      "skip;\n",
      "H[p];\n",
      "CX[p q];\n",
      "assert P0[p]\n"
     ]
    }
   ],
   "source": [
    "code = '''\n",
    "    [p] :=0;\n",
    "    [q] :=0;\n",
    "    skip;\n",
    "    H[p];\n",
    "    CX[p q];\n",
    "    assert P0[p]\n",
    "'''\n",
    "prog = qpv2.parser.parse(code)\n",
    "print(prog)"
   ]
  },
  {
   "cell_type": "code",
   "execution_count": 6,
   "metadata": {},
   "outputs": [
    {
     "name": "stdout",
     "output_type": "stream",
     "text": [
      "[[0.5 0.  0.  0. ]\n",
      " [0.  0.  0.  0. ]\n",
      " [0.  0.  0.  0. ]\n",
      " [0.  0.  0.  0. ]][p q]\n"
     ]
    }
   ],
   "source": [
    "print(qpv2.calc(prog, rho0))"
   ]
  },
  {
   "cell_type": "markdown",
   "metadata": {},
   "source": [
    "This code will also terminate."
   ]
  },
  {
   "cell_type": "code",
   "execution_count": 7,
   "metadata": {},
   "outputs": [
    {
     "name": "stdout",
     "output_type": "stream",
     "text": [
      "[p]:=0;\n",
      "H[p];\n",
      "while P0[p] do\n",
      "  H[p]\n",
      "end\n",
      "\n",
      "[[0. 0.]\n",
      " [0. 1.]][p]\n"
     ]
    }
   ],
   "source": [
    "code = '''\n",
    "    [p] :=0;\n",
    "    H[p];\n",
    "    while P0[p] do\n",
    "        H[p]\n",
    "    end\n",
    "'''\n",
    "prog = qpv2.parser.parse(code)\n",
    "print(prog)\n",
    "print()\n",
    "print(qpv2.calc(prog, rho0))"
   ]
  },
  {
   "cell_type": "markdown",
   "metadata": {},
   "source": [
    "This code will kill the kernel because it indeed runs forever."
   ]
  },
  {
   "cell_type": "code",
   "execution_count": 8,
   "metadata": {},
   "outputs": [
    {
     "name": "stdout",
     "output_type": "stream",
     "text": [
      "[p]:=0;\n",
      "H[p];\n",
      "while P0[p] do\n",
      "  skip\n",
      "end\n",
      "\n"
     ]
    }
   ],
   "source": [
    "code = '''\n",
    "    [p] :=0;\n",
    "    H[p];\n",
    "    while P0[p] do\n",
    "        skip\n",
    "    end\n",
    "'''\n",
    "prog = qpv2.parser.parse(code)\n",
    "print(prog)\n",
    "print()\n",
    "\n",
    "# this execution kills the kernel\n",
    "# print(qpv2.calc(prog, rho0))"
   ]
  },
  {
   "cell_type": "markdown",
   "metadata": {},
   "source": [
    "## Refinement Program Statement"
   ]
  },
  {
   "cell_type": "code",
   "execution_count": 9,
   "metadata": {},
   "outputs": [
    {
     "name": "stdout",
     "output_type": "stream",
     "text": [
      "[ pre: P0[p], post: P0[p] ]\n",
      "  = RSKIP[] => {\n",
      "skip }\n",
      "[[1.]][]\n"
     ]
    }
   ],
   "source": [
    "code = '''\n",
    "    [pre: P0[p], post: P0[p]]\n",
    "         = RSKIP => \n",
    "      skip\n",
    "'''\n",
    "\n",
    "prog = qpv2.parser.parse(code)\n",
    "print(prog)\n",
    "\n",
    "rho0 = qpv2.OPTParser.parse(\"c1[]\").eval()\n",
    "print(qpv2.calc(prog, rho0))"
   ]
  },
  {
   "cell_type": "code",
   "execution_count": 10,
   "metadata": {},
   "outputs": [
    {
     "name": "stdout",
     "output_type": "stream",
     "text": [
      "[ pre: P0[p], post: I[p] ]\n",
      "  = RIMPLY[] => {\n",
      "[ pre: I[p], post: I[p] ] }\n",
      "  = RSKIP[] => {\n",
      "skip }\n",
      "\n",
      "[[1.]][]\n"
     ]
    }
   ],
   "source": [
    "code = '''\n",
    "    [pre: P0[p], post: I[p]]\n",
    "         = RIMPLY => \n",
    "    [pre: I[p], post : I[p]]\n",
    "         = RSKIP => \n",
    "      skip\n",
    "'''\n",
    "\n",
    "prog = qpv2.parser.parse(code)\n",
    "print(prog)\n",
    "print()\n",
    "rho0 = qpv2.OPTParser.parse(\"c1[]\").eval()\n",
    "print(qpv2.calc(prog, rho0))"
   ]
  },
  {
   "cell_type": "code",
   "execution_count": 11,
   "metadata": {},
   "outputs": [
    {
     "name": "stdout",
     "output_type": "stream",
     "text": [
      "[ pre: P0[p], post: P0[p] ]\n",
      "  = RSEQ[] => {\n",
      "[ pre: P0[p], post: P0[p] ];\n",
      "[ pre: P0[p], post: P0[p] ] }\n"
     ]
    }
   ],
   "source": [
    "\n",
    "code = '''\n",
    "    [pre: P0[p], post: P0[p]]\n",
    "        = RSEQ =>\n",
    "    [pre: P0[p], post: P0[p]]; \n",
    "    [pre: P0[p], post: P0[p]]\n",
    "'''\n",
    "\n",
    "prog = qpv2.parser.parse(code)\n",
    "print(prog)"
   ]
  },
  {
   "cell_type": "markdown",
   "metadata": {},
   "source": [
    "Note: A problem of extract exists here: we also need to extract the head of proof chain."
   ]
  },
  {
   "cell_type": "code",
   "execution_count": 12,
   "metadata": {},
   "outputs": [
    {
     "name": "stdout",
     "output_type": "stream",
     "text": [
      "[ pre: P0[p], post: P0[p] ]\n",
      "  = RSEQ[] => {\n",
      "[ pre: P0[p], post: P0[p] ]\n",
      "  = RSKIP[] => {\n",
      "skip };\n",
      "[ pre: P0[p], post: P0[p] ] }\n",
      "\n",
      "skip;\n",
      "[ pre: P0[p], post: P0[p] ]\n"
     ]
    }
   ],
   "source": [
    "code = '''\n",
    "    [pre: P0[p], post: P0[p]]\n",
    "        = RSEQ =>\n",
    "    {\n",
    "        [pre: P0[p], post: P0[p]]\n",
    "            = RSKIP =>\n",
    "        skip\n",
    "    }; \n",
    "    [pre: P0[p], post: P0[p]]\n",
    "'''\n",
    "\n",
    "prog = qpv2.parser.parse(code)\n",
    "print(prog)\n",
    "print()\n",
    "print(prog.extract)"
   ]
  },
  {
   "cell_type": "code",
   "execution_count": null,
   "metadata": {},
   "outputs": [],
   "source": []
  }
 ],
 "metadata": {
  "kernelspec": {
   "display_name": "base",
   "language": "python",
   "name": "python3"
  },
  "language_info": {
   "codemirror_mode": {
    "name": "ipython",
    "version": 3
   },
   "file_extension": ".py",
   "mimetype": "text/x-python",
   "name": "python",
   "nbconvert_exporter": "python",
   "pygments_lexer": "ipython3",
   "version": "3.9.12"
  }
 },
 "nbformat": 4,
 "nbformat_minor": 2
}
