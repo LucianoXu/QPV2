{
 "cells": [
  {
   "cell_type": "code",
   "execution_count": 1,
   "metadata": {},
   "outputs": [
    {
     "name": "stderr",
     "output_type": "stream",
     "text": [
      "WARNING: Token 'FLOATNUM' multiply defined\n",
      "WARNING: Token 'IQOPT' multiply defined\n"
     ]
    }
   ],
   "source": [
    "import qpv2"
   ]
  },
  {
   "cell_type": "code",
   "execution_count": 2,
   "metadata": {},
   "outputs": [],
   "source": [
    "code = r'''\n",
    "    abort;\n",
    "    skip;\n",
    "    [q p] :=0;\n",
    "    (H \\otimes X)[p q];\n",
    "    assert Pp[p];\n",
    "    [ pre: Pp[p], post: P1[p]];\n",
    "    ( skip _ 0.52 \\otimes H[p] );\n",
    "    if (P1[q] \\wedge P0[p]) then\n",
    "        CX[q p]\n",
    "    else\n",
    "        while Pm[p] do\n",
    "            H[p]\n",
    "        end\n",
    "    end\n",
    "'''"
   ]
  },
  {
   "cell_type": "code",
   "execution_count": 3,
   "metadata": {},
   "outputs": [
    {
     "name": "stdout",
     "output_type": "stream",
     "text": [
      "abort;\n",
      "skip;\n",
      "[q p]:=0;\n",
      "(H⊗X)[p q];\n",
      "assert Pp[p];\n",
      "[ pre: Pp[p], post: P1[p] ];\n",
      "(\n",
      "  skip\n",
      "_0.52⊗\n",
      "  H[p]\n",
      ");\n",
      "if (P1[q] ∧ P0[p]) then\n",
      "  CX[q p]\n",
      "else\n",
      "  while Pm[p] do\n",
      "    H[p]\n",
      "  end\n",
      "end\n"
     ]
    }
   ],
   "source": [
    "res = qpv2.parser.parse(code)\n",
    "print(res)"
   ]
  },
  {
   "cell_type": "markdown",
   "metadata": {},
   "source": [
    "## Forward Calculation"
   ]
  },
  {
   "cell_type": "code",
   "execution_count": 4,
   "metadata": {},
   "outputs": [
    {
     "name": "stdout",
     "output_type": "stream",
     "text": [
      "[[1.]][]\n"
     ]
    }
   ],
   "source": [
    "rho0 = qpv2.OPTParser.parse(\"c1[]\").eval()\n",
    "print(rho0)"
   ]
  },
  {
   "cell_type": "code",
   "execution_count": 5,
   "metadata": {},
   "outputs": [
    {
     "name": "stdout",
     "output_type": "stream",
     "text": [
      "[p]:=0;\n",
      "[q]:=0;\n",
      "skip;\n",
      "H[p];\n",
      "CX[p q];\n",
      "assert P0[p]\n"
     ]
    }
   ],
   "source": [
    "code = '''\n",
    "    [p] :=0;\n",
    "    [q] :=0;\n",
    "    skip;\n",
    "    H[p];\n",
    "    CX[p q];\n",
    "    assert P0[p]\n",
    "'''\n",
    "prog = qpv2.parser.parse(code)\n",
    "print(prog)"
   ]
  },
  {
   "cell_type": "code",
   "execution_count": 6,
   "metadata": {},
   "outputs": [
    {
     "name": "stdout",
     "output_type": "stream",
     "text": [
      "[[0.5 0.  0.  0. ]\n",
      " [0.  0.  0.  0. ]\n",
      " [0.  0.  0.  0. ]\n",
      " [0.  0.  0.  0. ]][p q]\n"
     ]
    }
   ],
   "source": [
    "print(qpv2.calc(prog, rho0))"
   ]
  },
  {
   "cell_type": "markdown",
   "metadata": {},
   "source": [
    "This code will also terminate."
   ]
  },
  {
   "cell_type": "code",
   "execution_count": 7,
   "metadata": {},
   "outputs": [
    {
     "name": "stdout",
     "output_type": "stream",
     "text": [
      "[p]:=0;\n",
      "H[p];\n",
      "while P0[p] do\n",
      "  H[p]\n",
      "end\n",
      "\n",
      "[[0. 0.]\n",
      " [0. 1.]][p]\n"
     ]
    }
   ],
   "source": [
    "code = '''\n",
    "    [p] :=0;\n",
    "    H[p];\n",
    "    while P0[p] do\n",
    "        H[p]\n",
    "    end\n",
    "'''\n",
    "prog = qpv2.parser.parse(code)\n",
    "print(prog)\n",
    "print()\n",
    "print(qpv2.calc(prog, rho0))"
   ]
  },
  {
   "cell_type": "markdown",
   "metadata": {},
   "source": [
    "This code will kill the kernel because it indeed runs forever."
   ]
  },
  {
   "cell_type": "code",
   "execution_count": 8,
   "metadata": {},
   "outputs": [
    {
     "name": "stdout",
     "output_type": "stream",
     "text": [
      "[p]:=0;\n",
      "H[p];\n",
      "while P0[p] do\n",
      "  skip\n",
      "end\n",
      "\n"
     ]
    }
   ],
   "source": [
    "code = '''\n",
    "    [p] :=0;\n",
    "    H[p];\n",
    "    while P0[p] do\n",
    "        skip\n",
    "    end\n",
    "'''\n",
    "prog = qpv2.parser.parse(code)\n",
    "print(prog)\n",
    "print()\n",
    "\n",
    "# this execution kills the kernel\n",
    "# print(qpv2.calc(prog, rho0))"
   ]
  },
  {
   "cell_type": "markdown",
   "metadata": {},
   "source": [
    "## Refinement Program Statement"
   ]
  },
  {
   "cell_type": "code",
   "execution_count": 9,
   "metadata": {},
   "outputs": [
    {
     "name": "stdout",
     "output_type": "stream",
     "text": [
      "[ pre: P0[p], post: P0[p] ]\n",
      "  =RSKIP=> {\n",
      "skip }\n",
      "[[1.]][]\n"
     ]
    }
   ],
   "source": [
    "code = '''\n",
    "    [pre: P0[p], post: P0[p]]\n",
    "         = RSKIP => \n",
    "      skip\n",
    "'''\n",
    "\n",
    "prog = qpv2.parser.parse(code)\n",
    "print(prog)\n",
    "\n",
    "rho0 = qpv2.OPTParser.parse(\"c1[]\").eval()\n",
    "print(qpv2.calc(prog, rho0))"
   ]
  },
  {
   "cell_type": "code",
   "execution_count": 10,
   "metadata": {},
   "outputs": [
    {
     "name": "stdout",
     "output_type": "stream",
     "text": [
      "[ pre: P0[p], post: I[p] ]\n",
      "  =RIMPLY=> {\n",
      "[ pre: I[p], post: I[p] ] }\n",
      "  =RSKIP=> {\n",
      "skip }\n",
      "\n",
      "[[1.]][]\n"
     ]
    }
   ],
   "source": [
    "code = '''\n",
    "    [pre: P0[p], post: I[p]]\n",
    "         = RIMPLY => \n",
    "    [pre: I[p], post : I[p]]\n",
    "         = RSKIP => \n",
    "      skip\n",
    "'''\n",
    "\n",
    "prog = qpv2.parser.parse(code)\n",
    "print(prog)\n",
    "print()\n",
    "rho0 = qpv2.OPTParser.parse(\"c1[]\").eval()\n",
    "print(qpv2.calc(prog, rho0))"
   ]
  },
  {
   "cell_type": "code",
   "execution_count": 11,
   "metadata": {},
   "outputs": [
    {
     "name": "stdout",
     "output_type": "stream",
     "text": [
      "[ pre: P0[p], post: P0[p] ]\n",
      "  =RSEQ=> {\n",
      "[ pre: P0[p], post: P0[p] ];\n",
      "[ pre: P0[p], post: P0[p] ] }\n"
     ]
    }
   ],
   "source": [
    "\n",
    "code = '''\n",
    "    [pre: P0[p], post: P0[p]]\n",
    "        = RSEQ =>\n",
    "    [pre: P0[p], post: P0[p]]; \n",
    "    [pre: P0[p], post: P0[p]]\n",
    "'''\n",
    "\n",
    "prog = qpv2.parser.parse(code)\n",
    "print(prog)"
   ]
  },
  {
   "cell_type": "markdown",
   "metadata": {},
   "source": [
    "Note: A problem of extract exists here: we also need to extract the head of proof chain."
   ]
  },
  {
   "cell_type": "code",
   "execution_count": 12,
   "metadata": {},
   "outputs": [
    {
     "name": "stdout",
     "output_type": "stream",
     "text": [
      "[ pre: P0[p], post: P0[p] ]\n",
      "  =RSEQ=> {\n",
      "[ pre: P0[p], post: P0[p] ]\n",
      "  =RSKIP=> {\n",
      "skip };\n",
      "[ pre: P0[p], post: P0[p] ] }\n",
      "\n",
      "skip;\n",
      "[ pre: P0[p], post: P0[p] ]\n"
     ]
    }
   ],
   "source": [
    "code = '''\n",
    "    [pre: P0[p], post: P0[p]]\n",
    "        = RSEQ =>\n",
    "    {\n",
    "        [pre: P0[p], post: P0[p]]\n",
    "            = RSKIP =>\n",
    "        skip\n",
    "    }; \n",
    "    [pre: P0[p], post: P0[p]]\n",
    "'''\n",
    "\n",
    "prog = qpv2.parser.parse(code)\n",
    "print(prog)\n",
    "print()\n",
    "print(prog.extract)"
   ]
  },
  {
   "cell_type": "code",
   "execution_count": 13,
   "metadata": {},
   "outputs": [
    {
     "name": "stdout",
     "output_type": "stream",
     "text": [
      "[ pre: Omega[t t'], post: (((I⊗I)-P00)[q0 q1]⊗Omega[t t']) ]\n",
      "  ==> {\n",
      "[q0 q1]:=0;\n",
      "[ pre: (P00[q0 q1]⊗Omega[t t']), post: (((I⊗I)-P00)[q0 q1]⊗Omega[t t']) ] }\n"
     ]
    }
   ],
   "source": [
    "\n",
    "code = '''\n",
    "\n",
    "    [pre : Omega[t t'], post: (I \\\\otimes I - P00)[q0 q1] \\\\otimes Omega[t t']]\n",
    "\n",
    "    ==>\n",
    "\n",
    "    [q0 q1] :=0; [pre: P00[q0 q1] \\\\otimes Omega[t t'], post: (I \\\\otimes I - P00)[q0 q1] \\\\otimes Omega[t t']]\n",
    "'''\n",
    "\n",
    "prog = qpv2.parser.parse(code)\n",
    "print(prog)"
   ]
  },
  {
   "cell_type": "code",
   "execution_count": 14,
   "metadata": {},
   "outputs": [
    {
     "ename": "ValueError",
     "evalue": "The relation P <= wlp.S.Q is not satisfied.",
     "output_type": "error",
     "traceback": [
      "\u001b[1;31m---------------------------------------------------------------------------\u001b[0m",
      "\u001b[1;31mValueError\u001b[0m                                Traceback (most recent call last)",
      "\u001b[1;32mc:\\Library\\Ph.D. Projects\\23 QPV2\\example.ipynb Cell 19\u001b[0m line \u001b[0;36m<cell line: 10>\u001b[1;34m()\u001b[0m\n\u001b[0;32m      <a href='vscode-notebook-cell:/c%3A/Library/Ph.D.%20Projects/23%20QPV2/example.ipynb#X24sZmlsZQ%3D%3D?line=0'>1</a>\u001b[0m code \u001b[39m=\u001b[39m \u001b[39m'''\u001b[39m\n\u001b[0;32m      <a href='vscode-notebook-cell:/c%3A/Library/Ph.D.%20Projects/23%20QPV2/example.ipynb#X24sZmlsZQ%3D%3D?line=1'>2</a>\u001b[0m \n\u001b[0;32m      <a href='vscode-notebook-cell:/c%3A/Library/Ph.D.%20Projects/23%20QPV2/example.ipynb#X24sZmlsZQ%3D%3D?line=2'>3</a>\u001b[0m \u001b[39m    [pre : P00[q0 q1], post : (I \u001b[39m\u001b[39m\\\\\u001b[39;00m\u001b[39motimes I - P00)[q0 q1]]\u001b[39m\n\u001b[1;32m   (...)\u001b[0m\n\u001b[0;32m      <a href='vscode-notebook-cell:/c%3A/Library/Ph.D.%20Projects/23%20QPV2/example.ipynb#X24sZmlsZQ%3D%3D?line=6'>7</a>\u001b[0m \u001b[39m    CX[q0 q1]\u001b[39m\n\u001b[0;32m      <a href='vscode-notebook-cell:/c%3A/Library/Ph.D.%20Projects/23%20QPV2/example.ipynb#X24sZmlsZQ%3D%3D?line=7'>8</a>\u001b[0m \u001b[39m'''\u001b[39m\n\u001b[1;32m---> <a href='vscode-notebook-cell:/c%3A/Library/Ph.D.%20Projects/23%20QPV2/example.ipynb#X24sZmlsZQ%3D%3D?line=9'>10</a>\u001b[0m prog \u001b[39m=\u001b[39m qpv2\u001b[39m.\u001b[39;49mparser\u001b[39m.\u001b[39;49mparse(code)\n\u001b[0;32m     <a href='vscode-notebook-cell:/c%3A/Library/Ph.D.%20Projects/23%20QPV2/example.ipynb#X24sZmlsZQ%3D%3D?line=10'>11</a>\u001b[0m \u001b[39mprint\u001b[39m(prog)\n",
      "File \u001b[1;32m~\\AppData\\Roaming\\Python\\Python39\\site-packages\\ply\\yacc.py:333\u001b[0m, in \u001b[0;36mLRParser.parse\u001b[1;34m(self, input, lexer, debug, tracking, tokenfunc)\u001b[0m\n\u001b[0;32m    331\u001b[0m     \u001b[39mreturn\u001b[39;00m \u001b[39mself\u001b[39m\u001b[39m.\u001b[39mparseopt(\u001b[39minput\u001b[39m, lexer, debug, tracking, tokenfunc)\n\u001b[0;32m    332\u001b[0m \u001b[39melse\u001b[39;00m:\n\u001b[1;32m--> 333\u001b[0m     \u001b[39mreturn\u001b[39;00m \u001b[39mself\u001b[39;49m\u001b[39m.\u001b[39;49mparseopt_notrack(\u001b[39minput\u001b[39;49m, lexer, debug, tracking, tokenfunc)\n",
      "File \u001b[1;32m~\\AppData\\Roaming\\Python\\Python39\\site-packages\\ply\\yacc.py:1120\u001b[0m, in \u001b[0;36mLRParser.parseopt_notrack\u001b[1;34m(self, input, lexer, debug, tracking, tokenfunc)\u001b[0m\n\u001b[0;32m   1118\u001b[0m \u001b[39mdel\u001b[39;00m symstack[\u001b[39m-\u001b[39mplen:]\n\u001b[0;32m   1119\u001b[0m \u001b[39mself\u001b[39m\u001b[39m.\u001b[39mstate \u001b[39m=\u001b[39m state\n\u001b[1;32m-> 1120\u001b[0m p\u001b[39m.\u001b[39;49mcallable(pslice)\n\u001b[0;32m   1121\u001b[0m \u001b[39mdel\u001b[39;00m statestack[\u001b[39m-\u001b[39mplen:]\n\u001b[0;32m   1122\u001b[0m symstack\u001b[39m.\u001b[39mappend(sym)\n",
      "File \u001b[1;32mc:\\Library\\Ph.D. Projects\\23 QPV2\\qpv2\\language\\parser.py:98\u001b[0m, in \u001b[0;36mp_refinement\u001b[1;34m(p)\u001b[0m\n\u001b[0;32m     91\u001b[0m \u001b[39m'''\u001b[39;00m\n\u001b[0;32m     92\u001b[0m \u001b[39mrefinement  : statement '=' '=' '>' statement\u001b[39;00m\n\u001b[0;32m     93\u001b[0m \u001b[39m            | statement '=' RSKIP '=' '>' statement\u001b[39;00m\n\u001b[0;32m     94\u001b[0m \u001b[39m            | statement '=' RIMPLY '=' '>' statement\u001b[39;00m\n\u001b[0;32m     95\u001b[0m \u001b[39m            | statement '=' RSEQ '=' '>' statement\u001b[39;00m\n\u001b[0;32m     96\u001b[0m \u001b[39m'''\u001b[39;00m\n\u001b[0;32m     97\u001b[0m \u001b[39mif\u001b[39;00m \u001b[39mlen\u001b[39m(p) \u001b[39m==\u001b[39m \u001b[39m6\u001b[39m \u001b[39mand\u001b[39;00m p[\u001b[39m2\u001b[39m] \u001b[39m==\u001b[39m \u001b[39m'\u001b[39m\u001b[39m=\u001b[39m\u001b[39m'\u001b[39m \u001b[39mand\u001b[39;00m p[\u001b[39m3\u001b[39m] \u001b[39m==\u001b[39m \u001b[39m'\u001b[39m\u001b[39m=\u001b[39m\u001b[39m'\u001b[39m \u001b[39mand\u001b[39;00m p[\u001b[39m4\u001b[39m] \u001b[39m==\u001b[39m \u001b[39m'\u001b[39m\u001b[39m>\u001b[39m\u001b[39m'\u001b[39m:\n\u001b[1;32m---> 98\u001b[0m     p[\u001b[39m0\u001b[39m] \u001b[39m=\u001b[39m RPres(p[\u001b[39m1\u001b[39;49m], p[\u001b[39m5\u001b[39;49m], [])\n\u001b[0;32m     99\u001b[0m \u001b[39melif\u001b[39;00m p[\u001b[39m3\u001b[39m] \u001b[39m==\u001b[39m \u001b[39m'\u001b[39m\u001b[39mRSKIP\u001b[39m\u001b[39m'\u001b[39m:\n\u001b[0;32m    100\u001b[0m     p[\u001b[39m0\u001b[39m] \u001b[39m=\u001b[39m RSKIP(p[\u001b[39m1\u001b[39m], p[\u001b[39m6\u001b[39m], [])\n",
      "File \u001b[1;32mc:\\Library\\Ph.D. Projects\\23 QPV2\\qpv2\\language\\refinement\\refinement.py:115\u001b[0m, in \u001b[0;36mRPres.__init__\u001b[1;34m(self, Spre, Spost, parals)\u001b[0m\n\u001b[0;32m    112\u001b[0m \u001b[39mself\u001b[39m\u001b[39m.\u001b[39m_Spost \u001b[39m=\u001b[39m Spost\n\u001b[0;32m    113\u001b[0m \u001b[39mself\u001b[39m\u001b[39m.\u001b[39m_parals \u001b[39m=\u001b[39m parals\n\u001b[1;32m--> 115\u001b[0m \u001b[39mself\u001b[39;49m\u001b[39m.\u001b[39;49mvalidity_check()\n",
      "File \u001b[1;32mc:\\Library\\Ph.D. Projects\\23 QPV2\\qpv2\\language\\refinement\\refinement.py:124\u001b[0m, in \u001b[0;36mRPres.validity_check\u001b[1;34m(self)\u001b[0m\n\u001b[0;32m    122\u001b[0m \u001b[39m# check whether wlp relation is satisfied\u001b[39;00m\n\u001b[0;32m    123\u001b[0m \u001b[39mif\u001b[39;00m \u001b[39mnot\u001b[39;00m \u001b[39mself\u001b[39m\u001b[39m.\u001b[39m_Spre\u001b[39m.\u001b[39mP \u001b[39m<\u001b[39m\u001b[39m=\u001b[39m \u001b[39mself\u001b[39m\u001b[39m.\u001b[39m_Spost\u001b[39m.\u001b[39mwlp(\u001b[39mself\u001b[39m\u001b[39m.\u001b[39m_Spre\u001b[39m.\u001b[39mQ):\n\u001b[1;32m--> 124\u001b[0m     \u001b[39mraise\u001b[39;00m \u001b[39mValueError\u001b[39;00m(\u001b[39m\"\u001b[39m\u001b[39mThe relation P <= wlp.S.Q is not satisfied.\u001b[39m\u001b[39m\"\u001b[39m)\n",
      "\u001b[1;31mValueError\u001b[0m: The relation P <= wlp.S.Q is not satisfied."
     ]
    }
   ],
   "source": [
    "\n",
    "code = '''\n",
    "\n",
    "    [pre : P00[q0 q1], post : (I \\\\otimes I - P00)[q0 q1]]\n",
    "\n",
    "    ==>\n",
    "\n",
    "    CX[q0 q1]\n",
    "'''\n",
    "\n",
    "prog = qpv2.parser.parse(code)\n",
    "print(prog)"
   ]
  },
  {
   "cell_type": "code",
   "execution_count": null,
   "metadata": {},
   "outputs": [],
   "source": []
  }
 ],
 "metadata": {
  "kernelspec": {
   "display_name": "base",
   "language": "python",
   "name": "python3"
  },
  "language_info": {
   "codemirror_mode": {
    "name": "ipython",
    "version": 3
   },
   "file_extension": ".py",
   "mimetype": "text/x-python",
   "name": "python",
   "nbconvert_exporter": "python",
   "pygments_lexer": "ipython3",
   "version": "3.9.12"
  }
 },
 "nbformat": 4,
 "nbformat_minor": 2
}
