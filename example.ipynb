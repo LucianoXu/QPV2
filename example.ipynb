{
 "cells": [
  {
   "cell_type": "code",
   "execution_count": 4,
   "metadata": {},
   "outputs": [],
   "source": [
    "import qpv2"
   ]
  },
  {
   "cell_type": "code",
   "execution_count": 5,
   "metadata": {},
   "outputs": [],
   "source": [
    "code = '''\n",
    "    abort;\n",
    "    skip;\n",
    "    [q p] :=0;\n",
    "    H[p];\n",
    "    assert Pp[p];\n",
    "    [ pre: Pp[p], post: P1[p]];\n",
    "    ( skip _ 0.52 \\\\otimes H[p] );\n",
    "    if P1[q] then\n",
    "        CX[q p]\n",
    "    else\n",
    "        while Pm[p] do\n",
    "            H[p]\n",
    "        end\n",
    "    end\n",
    "'''"
   ]
  },
  {
   "cell_type": "code",
   "execution_count": 6,
   "metadata": {},
   "outputs": [
    {
     "name": "stdout",
     "output_type": "stream",
     "text": [
      "abort;\n",
      "skip;\n",
      "[q p]:=0;\n",
      "H[p];\n",
      "assert Pp[p];\n",
      "[ pre: Pp[p], post: P1[p] ];\n",
      "(\n",
      "  skip _0.52⊗\n",
      "  H[p] );\n",
      "if P1[q] then\n",
      "  CX[q p]\n",
      "else\n",
      "  while Pm[p] do    H[p]\n",
      "  end\n",
      "end\n"
     ]
    }
   ],
   "source": [
    "res = qpv2.parser.parse(code)\n",
    "print(res)"
   ]
  },
  {
   "cell_type": "code",
   "execution_count": null,
   "metadata": {},
   "outputs": [],
   "source": []
  }
 ],
 "metadata": {
  "kernelspec": {
   "display_name": "base",
   "language": "python",
   "name": "python3"
  },
  "language_info": {
   "codemirror_mode": {
    "name": "ipython",
    "version": 3
   },
   "file_extension": ".py",
   "mimetype": "text/x-python",
   "name": "python",
   "nbconvert_exporter": "python",
   "pygments_lexer": "ipython3",
   "version": "3.9.12"
  }
 },
 "nbformat": 4,
 "nbformat_minor": 2
}
