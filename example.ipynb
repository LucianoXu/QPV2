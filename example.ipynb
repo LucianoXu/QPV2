{
 "cells": [
  {
   "cell_type": "code",
   "execution_count": 1,
   "metadata": {},
   "outputs": [],
   "source": [
    "import qpv2"
   ]
  },
  {
   "cell_type": "code",
   "execution_count": 2,
   "metadata": {},
   "outputs": [],
   "source": [
    "code = r'''\n",
    "    abort;\n",
    "    skip;\n",
    "    [q p] :=0;\n",
    "    (H \\otimes X)[p q];\n",
    "    assert Pp[p];\n",
    "    [ pre: Pp[p], post: P1[p]];\n",
    "    ( skip _ 0.52 \\otimes H[p] );\n",
    "    if (P1[q] \\wedge P0[p]) then\n",
    "        CX[q p]\n",
    "    else\n",
    "        while Pm[p] do\n",
    "            H[p]\n",
    "        end\n",
    "    end\n",
    "'''"
   ]
  },
  {
   "cell_type": "code",
   "execution_count": 3,
   "metadata": {},
   "outputs": [
    {
     "name": "stdout",
     "output_type": "stream",
     "text": [
      "abort;\n",
      "skip;\n",
      "[q p]:=0;\n",
      "(H⊗X)[p q];\n",
      "assert Pp[p];\n",
      "[ pre: Pp[p], post: P1[p] ];\n",
      "(\n",
      "  skip\n",
      "_0.52⊗\n",
      "  H[p]\n",
      ");\n",
      "if (P1[q] ∧ P0[p]) then\n",
      "  CX[q p]\n",
      "else\n",
      "  while Pm[p] do\n",
      "    H[p]\n",
      "  end\n",
      "end\n"
     ]
    }
   ],
   "source": [
    "res = qpv2.parser.parse(code)\n",
    "print(res)"
   ]
  },
  {
   "cell_type": "markdown",
   "metadata": {},
   "source": [
    "## Forward Calculation"
   ]
  },
  {
   "cell_type": "code",
   "execution_count": 4,
   "metadata": {},
   "outputs": [
    {
     "name": "stdout",
     "output_type": "stream",
     "text": [
      "[[1.]][]\n"
     ]
    }
   ],
   "source": [
    "rho0 = qpv2.OPTParser.parse(\"c1[]\").eval()\n",
    "print(rho0)"
   ]
  },
  {
   "cell_type": "code",
   "execution_count": 19,
   "metadata": {},
   "outputs": [
    {
     "name": "stdout",
     "output_type": "stream",
     "text": [
      "[p]:=0;\n",
      "[q]:=0;\n",
      "skip;\n",
      "H[p];\n",
      "CX[p q];\n",
      "assert P0[p]\n"
     ]
    }
   ],
   "source": [
    "code = '''\n",
    "    [p] :=0;\n",
    "    [q] :=0;\n",
    "    skip;\n",
    "    H[p];\n",
    "    CX[p q];\n",
    "    assert P0[p]\n",
    "'''\n",
    "prog = qpv2.parser.parse(code)\n",
    "print(prog)"
   ]
  },
  {
   "cell_type": "code",
   "execution_count": 20,
   "metadata": {},
   "outputs": [
    {
     "name": "stdout",
     "output_type": "stream",
     "text": [
      "[[0.5 0.  0.  0. ]\n",
      " [0.  0.  0.  0. ]\n",
      " [0.  0.  0.  0. ]\n",
      " [0.  0.  0.  0. ]][p q] 4\n"
     ]
    }
   ],
   "source": [
    "rho_out, n = qpv2.calc(prog, rho0, 10)\n",
    "print(rho_out, n)"
   ]
  },
  {
   "cell_type": "code",
   "execution_count": null,
   "metadata": {},
   "outputs": [],
   "source": []
  }
 ],
 "metadata": {
  "kernelspec": {
   "display_name": "base",
   "language": "python",
   "name": "python3"
  },
  "language_info": {
   "codemirror_mode": {
    "name": "ipython",
    "version": 3
   },
   "file_extension": ".py",
   "mimetype": "text/x-python",
   "name": "python",
   "nbconvert_exporter": "python",
   "pygments_lexer": "ipython3",
   "version": "3.9.12"
  }
 },
 "nbformat": 4,
 "nbformat_minor": 2
}
